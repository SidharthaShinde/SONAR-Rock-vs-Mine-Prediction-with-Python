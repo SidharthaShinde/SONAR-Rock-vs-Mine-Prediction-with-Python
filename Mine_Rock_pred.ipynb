{
  "nbformat": 4,
  "nbformat_minor": 0,
  "metadata": {
    "colab": {
      "name": "Mine/Rock_pred.ipynb",
      "provenance": [],
      "collapsed_sections": []
    },
    "kernelspec": {
      "name": "python3",
      "display_name": "Python 3"
    },
    "language_info": {
      "name": "python"
    }
  },
  "cells": [
    {
      "cell_type": "code",
      "execution_count": null,
      "metadata": {
        "id": "Na4evhU509eE"
      },
      "outputs": [],
      "source": [
        "import pandas as pd"
      ]
    },
    {
      "cell_type": "markdown",
      "source": [
        "# Logistic Regression Model\n",
        "- supervised Learning Algorithm\n",
        "- Binary classification problem"
      ],
      "metadata": {
        "id": "XnYPUlZv20nQ"
      }
    },
    {
      "cell_type": "code",
      "source": [
        "sonar_data = pd.read_csv(\"sonar_data.csv\",header=None)"
      ],
      "metadata": {
        "id": "2FHyTi4o3UHF"
      },
      "execution_count": null,
      "outputs": []
    },
    {
      "cell_type": "code",
      "source": [
        "sonar_data.sample(5)"
      ],
      "metadata": {
        "colab": {
          "base_uri": "https://localhost:8080/",
          "height": 270
        },
        "id": "7QwOFgu-4zXU",
        "outputId": "58c2a6e2-531f-486c-8f5a-eeebaa88f501"
      },
      "execution_count": null,
      "outputs": [
        {
          "output_type": "execute_result",
          "data": {
            "text/html": [
              "\n",
              "  <div id=\"df-95675782-10e8-413c-91db-6d27c13e2d49\">\n",
              "    <div class=\"colab-df-container\">\n",
              "      <div>\n",
              "<style scoped>\n",
              "    .dataframe tbody tr th:only-of-type {\n",
              "        vertical-align: middle;\n",
              "    }\n",
              "\n",
              "    .dataframe tbody tr th {\n",
              "        vertical-align: top;\n",
              "    }\n",
              "\n",
              "    .dataframe thead th {\n",
              "        text-align: right;\n",
              "    }\n",
              "</style>\n",
              "<table border=\"1\" class=\"dataframe\">\n",
              "  <thead>\n",
              "    <tr style=\"text-align: right;\">\n",
              "      <th></th>\n",
              "      <th>0</th>\n",
              "      <th>1</th>\n",
              "      <th>2</th>\n",
              "      <th>3</th>\n",
              "      <th>4</th>\n",
              "      <th>5</th>\n",
              "      <th>6</th>\n",
              "      <th>7</th>\n",
              "      <th>8</th>\n",
              "      <th>9</th>\n",
              "      <th>10</th>\n",
              "      <th>11</th>\n",
              "      <th>12</th>\n",
              "      <th>13</th>\n",
              "      <th>14</th>\n",
              "      <th>15</th>\n",
              "      <th>16</th>\n",
              "      <th>17</th>\n",
              "      <th>18</th>\n",
              "      <th>19</th>\n",
              "      <th>20</th>\n",
              "      <th>21</th>\n",
              "      <th>22</th>\n",
              "      <th>23</th>\n",
              "      <th>24</th>\n",
              "      <th>25</th>\n",
              "      <th>26</th>\n",
              "      <th>27</th>\n",
              "      <th>28</th>\n",
              "      <th>29</th>\n",
              "      <th>30</th>\n",
              "      <th>31</th>\n",
              "      <th>32</th>\n",
              "      <th>33</th>\n",
              "      <th>34</th>\n",
              "      <th>35</th>\n",
              "      <th>36</th>\n",
              "      <th>37</th>\n",
              "      <th>38</th>\n",
              "      <th>39</th>\n",
              "      <th>40</th>\n",
              "      <th>41</th>\n",
              "      <th>42</th>\n",
              "      <th>43</th>\n",
              "      <th>44</th>\n",
              "      <th>45</th>\n",
              "      <th>46</th>\n",
              "      <th>47</th>\n",
              "      <th>48</th>\n",
              "      <th>49</th>\n",
              "      <th>50</th>\n",
              "      <th>51</th>\n",
              "      <th>52</th>\n",
              "      <th>53</th>\n",
              "      <th>54</th>\n",
              "      <th>55</th>\n",
              "      <th>56</th>\n",
              "      <th>57</th>\n",
              "      <th>58</th>\n",
              "      <th>59</th>\n",
              "      <th>60</th>\n",
              "    </tr>\n",
              "  </thead>\n",
              "  <tbody>\n",
              "    <tr>\n",
              "      <th>52</th>\n",
              "      <td>0.0087</td>\n",
              "      <td>0.0046</td>\n",
              "      <td>0.0081</td>\n",
              "      <td>0.0230</td>\n",
              "      <td>0.0586</td>\n",
              "      <td>0.0682</td>\n",
              "      <td>0.0993</td>\n",
              "      <td>0.0717</td>\n",
              "      <td>0.0576</td>\n",
              "      <td>0.0818</td>\n",
              "      <td>0.1315</td>\n",
              "      <td>0.1862</td>\n",
              "      <td>0.2789</td>\n",
              "      <td>0.2579</td>\n",
              "      <td>0.2240</td>\n",
              "      <td>0.2568</td>\n",
              "      <td>0.2933</td>\n",
              "      <td>0.2991</td>\n",
              "      <td>0.3924</td>\n",
              "      <td>0.4691</td>\n",
              "      <td>0.5665</td>\n",
              "      <td>0.6464</td>\n",
              "      <td>0.6774</td>\n",
              "      <td>0.7577</td>\n",
              "      <td>0.8856</td>\n",
              "      <td>0.9419</td>\n",
              "      <td>1.0000</td>\n",
              "      <td>0.8564</td>\n",
              "      <td>0.6790</td>\n",
              "      <td>0.5587</td>\n",
              "      <td>0.4147</td>\n",
              "      <td>0.2946</td>\n",
              "      <td>0.2025</td>\n",
              "      <td>0.0688</td>\n",
              "      <td>0.1171</td>\n",
              "      <td>0.2157</td>\n",
              "      <td>0.2216</td>\n",
              "      <td>0.2776</td>\n",
              "      <td>0.2309</td>\n",
              "      <td>0.1444</td>\n",
              "      <td>0.1513</td>\n",
              "      <td>0.1745</td>\n",
              "      <td>0.1756</td>\n",
              "      <td>0.1424</td>\n",
              "      <td>0.0908</td>\n",
              "      <td>0.0138</td>\n",
              "      <td>0.0469</td>\n",
              "      <td>0.0480</td>\n",
              "      <td>0.0159</td>\n",
              "      <td>0.0045</td>\n",
              "      <td>0.0015</td>\n",
              "      <td>0.0052</td>\n",
              "      <td>0.0038</td>\n",
              "      <td>0.0079</td>\n",
              "      <td>0.0114</td>\n",
              "      <td>0.0050</td>\n",
              "      <td>0.0030</td>\n",
              "      <td>0.0064</td>\n",
              "      <td>0.0058</td>\n",
              "      <td>0.0030</td>\n",
              "      <td>R</td>\n",
              "    </tr>\n",
              "    <tr>\n",
              "      <th>69</th>\n",
              "      <td>0.0216</td>\n",
              "      <td>0.0215</td>\n",
              "      <td>0.0273</td>\n",
              "      <td>0.0139</td>\n",
              "      <td>0.0357</td>\n",
              "      <td>0.0785</td>\n",
              "      <td>0.0906</td>\n",
              "      <td>0.0908</td>\n",
              "      <td>0.1151</td>\n",
              "      <td>0.0973</td>\n",
              "      <td>0.1203</td>\n",
              "      <td>0.1102</td>\n",
              "      <td>0.1192</td>\n",
              "      <td>0.1762</td>\n",
              "      <td>0.2390</td>\n",
              "      <td>0.2138</td>\n",
              "      <td>0.1929</td>\n",
              "      <td>0.1765</td>\n",
              "      <td>0.0746</td>\n",
              "      <td>0.1265</td>\n",
              "      <td>0.2005</td>\n",
              "      <td>0.1571</td>\n",
              "      <td>0.2605</td>\n",
              "      <td>0.5386</td>\n",
              "      <td>0.8440</td>\n",
              "      <td>1.0000</td>\n",
              "      <td>0.8684</td>\n",
              "      <td>0.6742</td>\n",
              "      <td>0.5537</td>\n",
              "      <td>0.4638</td>\n",
              "      <td>0.3609</td>\n",
              "      <td>0.2055</td>\n",
              "      <td>0.1620</td>\n",
              "      <td>0.2092</td>\n",
              "      <td>0.3100</td>\n",
              "      <td>0.2344</td>\n",
              "      <td>0.1058</td>\n",
              "      <td>0.0383</td>\n",
              "      <td>0.0528</td>\n",
              "      <td>0.1291</td>\n",
              "      <td>0.2241</td>\n",
              "      <td>0.1915</td>\n",
              "      <td>0.1587</td>\n",
              "      <td>0.0942</td>\n",
              "      <td>0.0840</td>\n",
              "      <td>0.0670</td>\n",
              "      <td>0.0342</td>\n",
              "      <td>0.0469</td>\n",
              "      <td>0.0357</td>\n",
              "      <td>0.0136</td>\n",
              "      <td>0.0082</td>\n",
              "      <td>0.0140</td>\n",
              "      <td>0.0044</td>\n",
              "      <td>0.0052</td>\n",
              "      <td>0.0073</td>\n",
              "      <td>0.0021</td>\n",
              "      <td>0.0047</td>\n",
              "      <td>0.0024</td>\n",
              "      <td>0.0009</td>\n",
              "      <td>0.0017</td>\n",
              "      <td>R</td>\n",
              "    </tr>\n",
              "    <tr>\n",
              "      <th>201</th>\n",
              "      <td>0.0335</td>\n",
              "      <td>0.0258</td>\n",
              "      <td>0.0398</td>\n",
              "      <td>0.0570</td>\n",
              "      <td>0.0529</td>\n",
              "      <td>0.1091</td>\n",
              "      <td>0.1709</td>\n",
              "      <td>0.1684</td>\n",
              "      <td>0.1865</td>\n",
              "      <td>0.2660</td>\n",
              "      <td>0.3188</td>\n",
              "      <td>0.3553</td>\n",
              "      <td>0.3116</td>\n",
              "      <td>0.1965</td>\n",
              "      <td>0.1780</td>\n",
              "      <td>0.2794</td>\n",
              "      <td>0.2870</td>\n",
              "      <td>0.3969</td>\n",
              "      <td>0.5599</td>\n",
              "      <td>0.6936</td>\n",
              "      <td>0.7969</td>\n",
              "      <td>0.7452</td>\n",
              "      <td>0.8203</td>\n",
              "      <td>0.9261</td>\n",
              "      <td>0.8810</td>\n",
              "      <td>0.8814</td>\n",
              "      <td>0.9301</td>\n",
              "      <td>0.9955</td>\n",
              "      <td>0.8576</td>\n",
              "      <td>0.6069</td>\n",
              "      <td>0.3934</td>\n",
              "      <td>0.2464</td>\n",
              "      <td>0.1645</td>\n",
              "      <td>0.1140</td>\n",
              "      <td>0.0956</td>\n",
              "      <td>0.0080</td>\n",
              "      <td>0.0702</td>\n",
              "      <td>0.0936</td>\n",
              "      <td>0.0894</td>\n",
              "      <td>0.1127</td>\n",
              "      <td>0.0873</td>\n",
              "      <td>0.1020</td>\n",
              "      <td>0.1964</td>\n",
              "      <td>0.2256</td>\n",
              "      <td>0.1814</td>\n",
              "      <td>0.2012</td>\n",
              "      <td>0.1688</td>\n",
              "      <td>0.1037</td>\n",
              "      <td>0.0501</td>\n",
              "      <td>0.0136</td>\n",
              "      <td>0.0130</td>\n",
              "      <td>0.0120</td>\n",
              "      <td>0.0039</td>\n",
              "      <td>0.0053</td>\n",
              "      <td>0.0062</td>\n",
              "      <td>0.0046</td>\n",
              "      <td>0.0045</td>\n",
              "      <td>0.0022</td>\n",
              "      <td>0.0005</td>\n",
              "      <td>0.0031</td>\n",
              "      <td>M</td>\n",
              "    </tr>\n",
              "    <tr>\n",
              "      <th>3</th>\n",
              "      <td>0.0100</td>\n",
              "      <td>0.0171</td>\n",
              "      <td>0.0623</td>\n",
              "      <td>0.0205</td>\n",
              "      <td>0.0205</td>\n",
              "      <td>0.0368</td>\n",
              "      <td>0.1098</td>\n",
              "      <td>0.1276</td>\n",
              "      <td>0.0598</td>\n",
              "      <td>0.1264</td>\n",
              "      <td>0.0881</td>\n",
              "      <td>0.1992</td>\n",
              "      <td>0.0184</td>\n",
              "      <td>0.2261</td>\n",
              "      <td>0.1729</td>\n",
              "      <td>0.2131</td>\n",
              "      <td>0.0693</td>\n",
              "      <td>0.2281</td>\n",
              "      <td>0.4060</td>\n",
              "      <td>0.3973</td>\n",
              "      <td>0.2741</td>\n",
              "      <td>0.3690</td>\n",
              "      <td>0.5556</td>\n",
              "      <td>0.4846</td>\n",
              "      <td>0.3140</td>\n",
              "      <td>0.5334</td>\n",
              "      <td>0.5256</td>\n",
              "      <td>0.2520</td>\n",
              "      <td>0.2090</td>\n",
              "      <td>0.3559</td>\n",
              "      <td>0.6260</td>\n",
              "      <td>0.7340</td>\n",
              "      <td>0.6120</td>\n",
              "      <td>0.3497</td>\n",
              "      <td>0.3953</td>\n",
              "      <td>0.3012</td>\n",
              "      <td>0.5408</td>\n",
              "      <td>0.8814</td>\n",
              "      <td>0.9857</td>\n",
              "      <td>0.9167</td>\n",
              "      <td>0.6121</td>\n",
              "      <td>0.5006</td>\n",
              "      <td>0.3210</td>\n",
              "      <td>0.3202</td>\n",
              "      <td>0.4295</td>\n",
              "      <td>0.3654</td>\n",
              "      <td>0.2655</td>\n",
              "      <td>0.1576</td>\n",
              "      <td>0.0681</td>\n",
              "      <td>0.0294</td>\n",
              "      <td>0.0241</td>\n",
              "      <td>0.0121</td>\n",
              "      <td>0.0036</td>\n",
              "      <td>0.0150</td>\n",
              "      <td>0.0085</td>\n",
              "      <td>0.0073</td>\n",
              "      <td>0.0050</td>\n",
              "      <td>0.0044</td>\n",
              "      <td>0.0040</td>\n",
              "      <td>0.0117</td>\n",
              "      <td>R</td>\n",
              "    </tr>\n",
              "    <tr>\n",
              "      <th>126</th>\n",
              "      <td>0.0715</td>\n",
              "      <td>0.0849</td>\n",
              "      <td>0.0587</td>\n",
              "      <td>0.0218</td>\n",
              "      <td>0.0862</td>\n",
              "      <td>0.1801</td>\n",
              "      <td>0.1916</td>\n",
              "      <td>0.1896</td>\n",
              "      <td>0.2960</td>\n",
              "      <td>0.4186</td>\n",
              "      <td>0.4867</td>\n",
              "      <td>0.5249</td>\n",
              "      <td>0.5959</td>\n",
              "      <td>0.6855</td>\n",
              "      <td>0.8573</td>\n",
              "      <td>0.9718</td>\n",
              "      <td>0.8693</td>\n",
              "      <td>0.8711</td>\n",
              "      <td>0.8954</td>\n",
              "      <td>0.9922</td>\n",
              "      <td>0.8980</td>\n",
              "      <td>0.8158</td>\n",
              "      <td>0.8373</td>\n",
              "      <td>0.7541</td>\n",
              "      <td>0.5893</td>\n",
              "      <td>0.5488</td>\n",
              "      <td>0.5643</td>\n",
              "      <td>0.5406</td>\n",
              "      <td>0.4783</td>\n",
              "      <td>0.4439</td>\n",
              "      <td>0.3698</td>\n",
              "      <td>0.2574</td>\n",
              "      <td>0.1478</td>\n",
              "      <td>0.1743</td>\n",
              "      <td>0.1229</td>\n",
              "      <td>0.1588</td>\n",
              "      <td>0.1803</td>\n",
              "      <td>0.1436</td>\n",
              "      <td>0.1667</td>\n",
              "      <td>0.2630</td>\n",
              "      <td>0.2234</td>\n",
              "      <td>0.1239</td>\n",
              "      <td>0.0869</td>\n",
              "      <td>0.2092</td>\n",
              "      <td>0.1499</td>\n",
              "      <td>0.0676</td>\n",
              "      <td>0.0899</td>\n",
              "      <td>0.0927</td>\n",
              "      <td>0.0658</td>\n",
              "      <td>0.0086</td>\n",
              "      <td>0.0216</td>\n",
              "      <td>0.0153</td>\n",
              "      <td>0.0121</td>\n",
              "      <td>0.0096</td>\n",
              "      <td>0.0196</td>\n",
              "      <td>0.0042</td>\n",
              "      <td>0.0066</td>\n",
              "      <td>0.0099</td>\n",
              "      <td>0.0083</td>\n",
              "      <td>0.0124</td>\n",
              "      <td>M</td>\n",
              "    </tr>\n",
              "  </tbody>\n",
              "</table>\n",
              "</div>\n",
              "      <button class=\"colab-df-convert\" onclick=\"convertToInteractive('df-95675782-10e8-413c-91db-6d27c13e2d49')\"\n",
              "              title=\"Convert this dataframe to an interactive table.\"\n",
              "              style=\"display:none;\">\n",
              "        \n",
              "  <svg xmlns=\"http://www.w3.org/2000/svg\" height=\"24px\"viewBox=\"0 0 24 24\"\n",
              "       width=\"24px\">\n",
              "    <path d=\"M0 0h24v24H0V0z\" fill=\"none\"/>\n",
              "    <path d=\"M18.56 5.44l.94 2.06.94-2.06 2.06-.94-2.06-.94-.94-2.06-.94 2.06-2.06.94zm-11 1L8.5 8.5l.94-2.06 2.06-.94-2.06-.94L8.5 2.5l-.94 2.06-2.06.94zm10 10l.94 2.06.94-2.06 2.06-.94-2.06-.94-.94-2.06-.94 2.06-2.06.94z\"/><path d=\"M17.41 7.96l-1.37-1.37c-.4-.4-.92-.59-1.43-.59-.52 0-1.04.2-1.43.59L10.3 9.45l-7.72 7.72c-.78.78-.78 2.05 0 2.83L4 21.41c.39.39.9.59 1.41.59.51 0 1.02-.2 1.41-.59l7.78-7.78 2.81-2.81c.8-.78.8-2.07 0-2.86zM5.41 20L4 18.59l7.72-7.72 1.47 1.35L5.41 20z\"/>\n",
              "  </svg>\n",
              "      </button>\n",
              "      \n",
              "  <style>\n",
              "    .colab-df-container {\n",
              "      display:flex;\n",
              "      flex-wrap:wrap;\n",
              "      gap: 12px;\n",
              "    }\n",
              "\n",
              "    .colab-df-convert {\n",
              "      background-color: #E8F0FE;\n",
              "      border: none;\n",
              "      border-radius: 50%;\n",
              "      cursor: pointer;\n",
              "      display: none;\n",
              "      fill: #1967D2;\n",
              "      height: 32px;\n",
              "      padding: 0 0 0 0;\n",
              "      width: 32px;\n",
              "    }\n",
              "\n",
              "    .colab-df-convert:hover {\n",
              "      background-color: #E2EBFA;\n",
              "      box-shadow: 0px 1px 2px rgba(60, 64, 67, 0.3), 0px 1px 3px 1px rgba(60, 64, 67, 0.15);\n",
              "      fill: #174EA6;\n",
              "    }\n",
              "\n",
              "    [theme=dark] .colab-df-convert {\n",
              "      background-color: #3B4455;\n",
              "      fill: #D2E3FC;\n",
              "    }\n",
              "\n",
              "    [theme=dark] .colab-df-convert:hover {\n",
              "      background-color: #434B5C;\n",
              "      box-shadow: 0px 1px 3px 1px rgba(0, 0, 0, 0.15);\n",
              "      filter: drop-shadow(0px 1px 2px rgba(0, 0, 0, 0.3));\n",
              "      fill: #FFFFFF;\n",
              "    }\n",
              "  </style>\n",
              "\n",
              "      <script>\n",
              "        const buttonEl =\n",
              "          document.querySelector('#df-95675782-10e8-413c-91db-6d27c13e2d49 button.colab-df-convert');\n",
              "        buttonEl.style.display =\n",
              "          google.colab.kernel.accessAllowed ? 'block' : 'none';\n",
              "\n",
              "        async function convertToInteractive(key) {\n",
              "          const element = document.querySelector('#df-95675782-10e8-413c-91db-6d27c13e2d49');\n",
              "          const dataTable =\n",
              "            await google.colab.kernel.invokeFunction('convertToInteractive',\n",
              "                                                     [key], {});\n",
              "          if (!dataTable) return;\n",
              "\n",
              "          const docLinkHtml = 'Like what you see? Visit the ' +\n",
              "            '<a target=\"_blank\" href=https://colab.research.google.com/notebooks/data_table.ipynb>data table notebook</a>'\n",
              "            + ' to learn more about interactive tables.';\n",
              "          element.innerHTML = '';\n",
              "          dataTable['output_type'] = 'display_data';\n",
              "          await google.colab.output.renderOutput(dataTable, element);\n",
              "          const docLink = document.createElement('div');\n",
              "          docLink.innerHTML = docLinkHtml;\n",
              "          element.appendChild(docLink);\n",
              "        }\n",
              "      </script>\n",
              "    </div>\n",
              "  </div>\n",
              "  "
            ],
            "text/plain": [
              "         0       1       2       3       4   ...      56      57      58      59  60\n",
              "52   0.0087  0.0046  0.0081  0.0230  0.0586  ...  0.0030  0.0064  0.0058  0.0030   R\n",
              "69   0.0216  0.0215  0.0273  0.0139  0.0357  ...  0.0047  0.0024  0.0009  0.0017   R\n",
              "201  0.0335  0.0258  0.0398  0.0570  0.0529  ...  0.0045  0.0022  0.0005  0.0031   M\n",
              "3    0.0100  0.0171  0.0623  0.0205  0.0205  ...  0.0050  0.0044  0.0040  0.0117   R\n",
              "126  0.0715  0.0849  0.0587  0.0218  0.0862  ...  0.0066  0.0099  0.0083  0.0124   M\n",
              "\n",
              "[5 rows x 61 columns]"
            ]
          },
          "metadata": {},
          "execution_count": 13
        }
      ]
    },
    {
      "cell_type": "code",
      "source": [
        "sonar_data.shape"
      ],
      "metadata": {
        "colab": {
          "base_uri": "https://localhost:8080/"
        },
        "id": "9eQ7MtQP44mv",
        "outputId": "4d095f4c-640f-4299-ec64-cd92a87cbce2"
      },
      "execution_count": null,
      "outputs": [
        {
          "output_type": "execute_result",
          "data": {
            "text/plain": [
              "(208, 61)"
            ]
          },
          "metadata": {},
          "execution_count": 11
        }
      ]
    },
    {
      "cell_type": "code",
      "source": [
        "sonar_data.info()"
      ],
      "metadata": {
        "id": "jd5aeuPk48QN"
      },
      "execution_count": null,
      "outputs": []
    },
    {
      "cell_type": "code",
      "source": [
        "# statistical measures of the data\n",
        "sonar_data.describe()"
      ],
      "metadata": {
        "id": "C7EAU0er5AU8"
      },
      "execution_count": null,
      "outputs": []
    },
    {
      "cell_type": "code",
      "source": [
        "sonar_data[60].value_counts()\n",
        "# almost equal number of both type of data is present in the dataset"
      ],
      "metadata": {
        "colab": {
          "base_uri": "https://localhost:8080/"
        },
        "id": "icFRRC_75p9f",
        "outputId": "0ec6c347-5644-4e65-9e64-4c9019b1511f"
      },
      "execution_count": null,
      "outputs": [
        {
          "output_type": "execute_result",
          "data": {
            "text/plain": [
              "M    111\n",
              "R     97\n",
              "Name: 60, dtype: int64"
            ]
          },
          "metadata": {},
          "execution_count": 16
        }
      ]
    },
    {
      "cell_type": "code",
      "source": [
        "# rock and Mine data mean values over the all columns\n",
        "# based on these differnce predicating wheter its Mine or rock \n",
        "sonar_data.groupby(60).mean()"
      ],
      "metadata": {
        "colab": {
          "base_uri": "https://localhost:8080/",
          "height": 208
        },
        "id": "LosKVz9r7THn",
        "outputId": "49ffb688-3f99-4b80-8291-4de224f69551"
      },
      "execution_count": null,
      "outputs": [
        {
          "output_type": "execute_result",
          "data": {
            "text/html": [
              "\n",
              "  <div id=\"df-42eda14f-f088-4364-bfe3-2c85238ae118\">\n",
              "    <div class=\"colab-df-container\">\n",
              "      <div>\n",
              "<style scoped>\n",
              "    .dataframe tbody tr th:only-of-type {\n",
              "        vertical-align: middle;\n",
              "    }\n",
              "\n",
              "    .dataframe tbody tr th {\n",
              "        vertical-align: top;\n",
              "    }\n",
              "\n",
              "    .dataframe thead th {\n",
              "        text-align: right;\n",
              "    }\n",
              "</style>\n",
              "<table border=\"1\" class=\"dataframe\">\n",
              "  <thead>\n",
              "    <tr style=\"text-align: right;\">\n",
              "      <th></th>\n",
              "      <th>0</th>\n",
              "      <th>1</th>\n",
              "      <th>2</th>\n",
              "      <th>3</th>\n",
              "      <th>4</th>\n",
              "      <th>5</th>\n",
              "      <th>6</th>\n",
              "      <th>7</th>\n",
              "      <th>8</th>\n",
              "      <th>9</th>\n",
              "      <th>10</th>\n",
              "      <th>11</th>\n",
              "      <th>12</th>\n",
              "      <th>13</th>\n",
              "      <th>14</th>\n",
              "      <th>15</th>\n",
              "      <th>16</th>\n",
              "      <th>17</th>\n",
              "      <th>18</th>\n",
              "      <th>19</th>\n",
              "      <th>20</th>\n",
              "      <th>21</th>\n",
              "      <th>22</th>\n",
              "      <th>23</th>\n",
              "      <th>24</th>\n",
              "      <th>25</th>\n",
              "      <th>26</th>\n",
              "      <th>27</th>\n",
              "      <th>28</th>\n",
              "      <th>29</th>\n",
              "      <th>30</th>\n",
              "      <th>31</th>\n",
              "      <th>32</th>\n",
              "      <th>33</th>\n",
              "      <th>34</th>\n",
              "      <th>35</th>\n",
              "      <th>36</th>\n",
              "      <th>37</th>\n",
              "      <th>38</th>\n",
              "      <th>39</th>\n",
              "      <th>40</th>\n",
              "      <th>41</th>\n",
              "      <th>42</th>\n",
              "      <th>43</th>\n",
              "      <th>44</th>\n",
              "      <th>45</th>\n",
              "      <th>46</th>\n",
              "      <th>47</th>\n",
              "      <th>48</th>\n",
              "      <th>49</th>\n",
              "      <th>50</th>\n",
              "      <th>51</th>\n",
              "      <th>52</th>\n",
              "      <th>53</th>\n",
              "      <th>54</th>\n",
              "      <th>55</th>\n",
              "      <th>56</th>\n",
              "      <th>57</th>\n",
              "      <th>58</th>\n",
              "      <th>59</th>\n",
              "    </tr>\n",
              "    <tr>\n",
              "      <th>60</th>\n",
              "      <th></th>\n",
              "      <th></th>\n",
              "      <th></th>\n",
              "      <th></th>\n",
              "      <th></th>\n",
              "      <th></th>\n",
              "      <th></th>\n",
              "      <th></th>\n",
              "      <th></th>\n",
              "      <th></th>\n",
              "      <th></th>\n",
              "      <th></th>\n",
              "      <th></th>\n",
              "      <th></th>\n",
              "      <th></th>\n",
              "      <th></th>\n",
              "      <th></th>\n",
              "      <th></th>\n",
              "      <th></th>\n",
              "      <th></th>\n",
              "      <th></th>\n",
              "      <th></th>\n",
              "      <th></th>\n",
              "      <th></th>\n",
              "      <th></th>\n",
              "      <th></th>\n",
              "      <th></th>\n",
              "      <th></th>\n",
              "      <th></th>\n",
              "      <th></th>\n",
              "      <th></th>\n",
              "      <th></th>\n",
              "      <th></th>\n",
              "      <th></th>\n",
              "      <th></th>\n",
              "      <th></th>\n",
              "      <th></th>\n",
              "      <th></th>\n",
              "      <th></th>\n",
              "      <th></th>\n",
              "      <th></th>\n",
              "      <th></th>\n",
              "      <th></th>\n",
              "      <th></th>\n",
              "      <th></th>\n",
              "      <th></th>\n",
              "      <th></th>\n",
              "      <th></th>\n",
              "      <th></th>\n",
              "      <th></th>\n",
              "      <th></th>\n",
              "      <th></th>\n",
              "      <th></th>\n",
              "      <th></th>\n",
              "      <th></th>\n",
              "      <th></th>\n",
              "      <th></th>\n",
              "      <th></th>\n",
              "      <th></th>\n",
              "      <th></th>\n",
              "    </tr>\n",
              "  </thead>\n",
              "  <tbody>\n",
              "    <tr>\n",
              "      <th>M</th>\n",
              "      <td>0.034989</td>\n",
              "      <td>0.045544</td>\n",
              "      <td>0.050720</td>\n",
              "      <td>0.064768</td>\n",
              "      <td>0.086715</td>\n",
              "      <td>0.111864</td>\n",
              "      <td>0.128359</td>\n",
              "      <td>0.149832</td>\n",
              "      <td>0.213492</td>\n",
              "      <td>0.251022</td>\n",
              "      <td>0.289581</td>\n",
              "      <td>0.301459</td>\n",
              "      <td>0.314426</td>\n",
              "      <td>0.320692</td>\n",
              "      <td>0.331182</td>\n",
              "      <td>0.380999</td>\n",
              "      <td>0.415007</td>\n",
              "      <td>0.455882</td>\n",
              "      <td>0.538062</td>\n",
              "      <td>0.617941</td>\n",
              "      <td>0.667426</td>\n",
              "      <td>0.672325</td>\n",
              "      <td>0.676701</td>\n",
              "      <td>0.689165</td>\n",
              "      <td>0.681204</td>\n",
              "      <td>0.706075</td>\n",
              "      <td>0.714754</td>\n",
              "      <td>0.712269</td>\n",
              "      <td>0.650283</td>\n",
              "      <td>0.581796</td>\n",
              "      <td>0.482378</td>\n",
              "      <td>0.428049</td>\n",
              "      <td>0.396577</td>\n",
              "      <td>0.36614</td>\n",
              "      <td>0.337553</td>\n",
              "      <td>0.318553</td>\n",
              "      <td>0.317034</td>\n",
              "      <td>0.331608</td>\n",
              "      <td>0.336365</td>\n",
              "      <td>0.305221</td>\n",
              "      <td>0.292594</td>\n",
              "      <td>0.300975</td>\n",
              "      <td>0.276883</td>\n",
              "      <td>0.248106</td>\n",
              "      <td>0.245225</td>\n",
              "      <td>0.198804</td>\n",
              "      <td>0.146917</td>\n",
              "      <td>0.110594</td>\n",
              "      <td>0.063708</td>\n",
              "      <td>0.022721</td>\n",
              "      <td>0.019352</td>\n",
              "      <td>0.016014</td>\n",
              "      <td>0.011643</td>\n",
              "      <td>0.012185</td>\n",
              "      <td>0.009923</td>\n",
              "      <td>0.008914</td>\n",
              "      <td>0.007825</td>\n",
              "      <td>0.009060</td>\n",
              "      <td>0.008695</td>\n",
              "      <td>0.006930</td>\n",
              "    </tr>\n",
              "    <tr>\n",
              "      <th>R</th>\n",
              "      <td>0.022498</td>\n",
              "      <td>0.030303</td>\n",
              "      <td>0.035951</td>\n",
              "      <td>0.041447</td>\n",
              "      <td>0.062028</td>\n",
              "      <td>0.096224</td>\n",
              "      <td>0.114180</td>\n",
              "      <td>0.117596</td>\n",
              "      <td>0.137392</td>\n",
              "      <td>0.159325</td>\n",
              "      <td>0.174713</td>\n",
              "      <td>0.191589</td>\n",
              "      <td>0.226249</td>\n",
              "      <td>0.268963</td>\n",
              "      <td>0.307636</td>\n",
              "      <td>0.375611</td>\n",
              "      <td>0.417100</td>\n",
              "      <td>0.448240</td>\n",
              "      <td>0.466762</td>\n",
              "      <td>0.500229</td>\n",
              "      <td>0.542270</td>\n",
              "      <td>0.569290</td>\n",
              "      <td>0.612959</td>\n",
              "      <td>0.653761</td>\n",
              "      <td>0.668809</td>\n",
              "      <td>0.692762</td>\n",
              "      <td>0.687737</td>\n",
              "      <td>0.673145</td>\n",
              "      <td>0.632680</td>\n",
              "      <td>0.579934</td>\n",
              "      <td>0.529762</td>\n",
              "      <td>0.451619</td>\n",
              "      <td>0.440841</td>\n",
              "      <td>0.44568</td>\n",
              "      <td>0.455530</td>\n",
              "      <td>0.460710</td>\n",
              "      <td>0.417330</td>\n",
              "      <td>0.348868</td>\n",
              "      <td>0.313709</td>\n",
              "      <td>0.318057</td>\n",
              "      <td>0.285428</td>\n",
              "      <td>0.252338</td>\n",
              "      <td>0.211822</td>\n",
              "      <td>0.175132</td>\n",
              "      <td>0.142312</td>\n",
              "      <td>0.116949</td>\n",
              "      <td>0.094458</td>\n",
              "      <td>0.069488</td>\n",
              "      <td>0.038449</td>\n",
              "      <td>0.017796</td>\n",
              "      <td>0.012311</td>\n",
              "      <td>0.010453</td>\n",
              "      <td>0.009640</td>\n",
              "      <td>0.009518</td>\n",
              "      <td>0.008567</td>\n",
              "      <td>0.007430</td>\n",
              "      <td>0.007814</td>\n",
              "      <td>0.006677</td>\n",
              "      <td>0.007078</td>\n",
              "      <td>0.006024</td>\n",
              "    </tr>\n",
              "  </tbody>\n",
              "</table>\n",
              "</div>\n",
              "      <button class=\"colab-df-convert\" onclick=\"convertToInteractive('df-42eda14f-f088-4364-bfe3-2c85238ae118')\"\n",
              "              title=\"Convert this dataframe to an interactive table.\"\n",
              "              style=\"display:none;\">\n",
              "        \n",
              "  <svg xmlns=\"http://www.w3.org/2000/svg\" height=\"24px\"viewBox=\"0 0 24 24\"\n",
              "       width=\"24px\">\n",
              "    <path d=\"M0 0h24v24H0V0z\" fill=\"none\"/>\n",
              "    <path d=\"M18.56 5.44l.94 2.06.94-2.06 2.06-.94-2.06-.94-.94-2.06-.94 2.06-2.06.94zm-11 1L8.5 8.5l.94-2.06 2.06-.94-2.06-.94L8.5 2.5l-.94 2.06-2.06.94zm10 10l.94 2.06.94-2.06 2.06-.94-2.06-.94-.94-2.06-.94 2.06-2.06.94z\"/><path d=\"M17.41 7.96l-1.37-1.37c-.4-.4-.92-.59-1.43-.59-.52 0-1.04.2-1.43.59L10.3 9.45l-7.72 7.72c-.78.78-.78 2.05 0 2.83L4 21.41c.39.39.9.59 1.41.59.51 0 1.02-.2 1.41-.59l7.78-7.78 2.81-2.81c.8-.78.8-2.07 0-2.86zM5.41 20L4 18.59l7.72-7.72 1.47 1.35L5.41 20z\"/>\n",
              "  </svg>\n",
              "      </button>\n",
              "      \n",
              "  <style>\n",
              "    .colab-df-container {\n",
              "      display:flex;\n",
              "      flex-wrap:wrap;\n",
              "      gap: 12px;\n",
              "    }\n",
              "\n",
              "    .colab-df-convert {\n",
              "      background-color: #E8F0FE;\n",
              "      border: none;\n",
              "      border-radius: 50%;\n",
              "      cursor: pointer;\n",
              "      display: none;\n",
              "      fill: #1967D2;\n",
              "      height: 32px;\n",
              "      padding: 0 0 0 0;\n",
              "      width: 32px;\n",
              "    }\n",
              "\n",
              "    .colab-df-convert:hover {\n",
              "      background-color: #E2EBFA;\n",
              "      box-shadow: 0px 1px 2px rgba(60, 64, 67, 0.3), 0px 1px 3px 1px rgba(60, 64, 67, 0.15);\n",
              "      fill: #174EA6;\n",
              "    }\n",
              "\n",
              "    [theme=dark] .colab-df-convert {\n",
              "      background-color: #3B4455;\n",
              "      fill: #D2E3FC;\n",
              "    }\n",
              "\n",
              "    [theme=dark] .colab-df-convert:hover {\n",
              "      background-color: #434B5C;\n",
              "      box-shadow: 0px 1px 3px 1px rgba(0, 0, 0, 0.15);\n",
              "      filter: drop-shadow(0px 1px 2px rgba(0, 0, 0, 0.3));\n",
              "      fill: #FFFFFF;\n",
              "    }\n",
              "  </style>\n",
              "\n",
              "      <script>\n",
              "        const buttonEl =\n",
              "          document.querySelector('#df-42eda14f-f088-4364-bfe3-2c85238ae118 button.colab-df-convert');\n",
              "        buttonEl.style.display =\n",
              "          google.colab.kernel.accessAllowed ? 'block' : 'none';\n",
              "\n",
              "        async function convertToInteractive(key) {\n",
              "          const element = document.querySelector('#df-42eda14f-f088-4364-bfe3-2c85238ae118');\n",
              "          const dataTable =\n",
              "            await google.colab.kernel.invokeFunction('convertToInteractive',\n",
              "                                                     [key], {});\n",
              "          if (!dataTable) return;\n",
              "\n",
              "          const docLinkHtml = 'Like what you see? Visit the ' +\n",
              "            '<a target=\"_blank\" href=https://colab.research.google.com/notebooks/data_table.ipynb>data table notebook</a>'\n",
              "            + ' to learn more about interactive tables.';\n",
              "          element.innerHTML = '';\n",
              "          dataTable['output_type'] = 'display_data';\n",
              "          await google.colab.output.renderOutput(dataTable, element);\n",
              "          const docLink = document.createElement('div');\n",
              "          docLink.innerHTML = docLinkHtml;\n",
              "          element.appendChild(docLink);\n",
              "        }\n",
              "      </script>\n",
              "    </div>\n",
              "  </div>\n",
              "  "
            ],
            "text/plain": [
              "          0         1         2   ...        57        58        59\n",
              "60                                ...                              \n",
              "M   0.034989  0.045544  0.050720  ...  0.009060  0.008695  0.006930\n",
              "R   0.022498  0.030303  0.035951  ...  0.006677  0.007078  0.006024\n",
              "\n",
              "[2 rows x 60 columns]"
            ]
          },
          "metadata": {},
          "execution_count": 19
        }
      ]
    },
    {
      "cell_type": "code",
      "source": [
        "# separating the data and lables\n",
        "x = sonar_data.drop(columns = 60, axis = 1)\n",
        "y = sonar_data[60]"
      ],
      "metadata": {
        "id": "vwDKKflL8PgX"
      },
      "execution_count": null,
      "outputs": []
    },
    {
      "cell_type": "code",
      "source": [
        "print(x)"
      ],
      "metadata": {
        "colab": {
          "base_uri": "https://localhost:8080/"
        },
        "id": "QiFxpedV9Z7y",
        "outputId": "9d98b1be-69a9-40e8-c3eb-6ceef583053f"
      },
      "execution_count": null,
      "outputs": [
        {
          "output_type": "stream",
          "name": "stdout",
          "text": [
            "         0       1       2       3   ...      56      57      58      59\n",
            "0    0.0200  0.0371  0.0428  0.0207  ...  0.0180  0.0084  0.0090  0.0032\n",
            "1    0.0453  0.0523  0.0843  0.0689  ...  0.0140  0.0049  0.0052  0.0044\n",
            "2    0.0262  0.0582  0.1099  0.1083  ...  0.0316  0.0164  0.0095  0.0078\n",
            "3    0.0100  0.0171  0.0623  0.0205  ...  0.0050  0.0044  0.0040  0.0117\n",
            "4    0.0762  0.0666  0.0481  0.0394  ...  0.0072  0.0048  0.0107  0.0094\n",
            "..      ...     ...     ...     ...  ...     ...     ...     ...     ...\n",
            "203  0.0187  0.0346  0.0168  0.0177  ...  0.0065  0.0115  0.0193  0.0157\n",
            "204  0.0323  0.0101  0.0298  0.0564  ...  0.0034  0.0032  0.0062  0.0067\n",
            "205  0.0522  0.0437  0.0180  0.0292  ...  0.0140  0.0138  0.0077  0.0031\n",
            "206  0.0303  0.0353  0.0490  0.0608  ...  0.0034  0.0079  0.0036  0.0048\n",
            "207  0.0260  0.0363  0.0136  0.0272  ...  0.0040  0.0036  0.0061  0.0115\n",
            "\n",
            "[208 rows x 60 columns]\n"
          ]
        }
      ]
    },
    {
      "cell_type": "code",
      "source": [
        "print(y)"
      ],
      "metadata": {
        "colab": {
          "base_uri": "https://localhost:8080/"
        },
        "id": "qmIYOQr69coR",
        "outputId": "e7f95777-de69-44b9-d600-04b05996cb1b"
      },
      "execution_count": null,
      "outputs": [
        {
          "output_type": "stream",
          "name": "stdout",
          "text": [
            "0      R\n",
            "1      R\n",
            "2      R\n",
            "3      R\n",
            "4      R\n",
            "      ..\n",
            "203    M\n",
            "204    M\n",
            "205    M\n",
            "206    M\n",
            "207    M\n",
            "Name: 60, Length: 208, dtype: object\n"
          ]
        }
      ]
    },
    {
      "cell_type": "markdown",
      "source": [
        "Training and Test data"
      ],
      "metadata": {
        "id": "EfVentza9rsC"
      }
    },
    {
      "cell_type": "code",
      "source": [
        "from sklearn.model_selection import train_test_split"
      ],
      "metadata": {
        "id": "d2sSW9j79jQU"
      },
      "execution_count": null,
      "outputs": []
    },
    {
      "cell_type": "code",
      "source": [
        "x_train, x_test, y_train, y_test = train_test_split(x,y, test_size = 0.1, stratify =y, random_state=1)"
      ],
      "metadata": {
        "id": "22dpfMdJ92sl"
      },
      "execution_count": null,
      "outputs": []
    },
    {
      "cell_type": "code",
      "source": [
        "print(x.shape, x_train.shape, x_test.shape)"
      ],
      "metadata": {
        "colab": {
          "base_uri": "https://localhost:8080/"
        },
        "id": "eu7PU--s_eFi",
        "outputId": "fffb92dd-9af9-4bf4-c834-f7ab09d68761"
      },
      "execution_count": null,
      "outputs": [
        {
          "output_type": "stream",
          "name": "stdout",
          "text": [
            "(208, 60) (187, 60) (21, 60)\n"
          ]
        }
      ]
    },
    {
      "cell_type": "markdown",
      "source": [
        "##Logistic regression Model Training"
      ],
      "metadata": {
        "id": "-lR_vF0l_5RZ"
      }
    },
    {
      "cell_type": "code",
      "source": [
        "from sklearn.linear_model import LogisticRegression"
      ],
      "metadata": {
        "id": "m0Y88mvk_oTl"
      },
      "execution_count": null,
      "outputs": []
    },
    {
      "cell_type": "code",
      "source": [
        "model = LogisticRegression()"
      ],
      "metadata": {
        "id": "VLf7OPJcAIaM"
      },
      "execution_count": null,
      "outputs": []
    },
    {
      "cell_type": "code",
      "source": [
        "# model trainig with training data\n",
        "model.fit(x_train, y_train)"
      ],
      "metadata": {
        "colab": {
          "base_uri": "https://localhost:8080/"
        },
        "id": "xGk2B_MKANhd",
        "outputId": "11b622e9-5a29-4165-8da4-b20df90ad4db"
      },
      "execution_count": null,
      "outputs": [
        {
          "output_type": "execute_result",
          "data": {
            "text/plain": [
              "LogisticRegression()"
            ]
          },
          "metadata": {},
          "execution_count": 37
        }
      ]
    },
    {
      "cell_type": "code",
      "source": [
        "from sklearn.metrics import accuracy_score"
      ],
      "metadata": {
        "id": "7AOfeeT-C9r6"
      },
      "execution_count": null,
      "outputs": []
    },
    {
      "cell_type": "code",
      "source": [
        "# Model evaluation\n",
        "x_train_pred = model.predict(x_train)\n",
        "train_data_accu = accuracy_score(x_train_pred, y_train)"
      ],
      "metadata": {
        "id": "1fuN76s2Aw_E"
      },
      "execution_count": null,
      "outputs": []
    },
    {
      "cell_type": "code",
      "source": [
        "print(train_data_accu)"
      ],
      "metadata": {
        "colab": {
          "base_uri": "https://localhost:8080/"
        },
        "id": "MdZCjJcZCnwf",
        "outputId": "bf7886cc-cbe0-438c-eef6-a71255079e9c"
      },
      "execution_count": null,
      "outputs": [
        {
          "output_type": "stream",
          "name": "stdout",
          "text": [
            "0.8342245989304813\n"
          ]
        }
      ]
    },
    {
      "cell_type": "code",
      "source": [
        "x_test_pred = model.predict(x_test)\n",
        "test_data_accu = accuracy_score(x_test_pred, y_test)"
      ],
      "metadata": {
        "id": "ruzvJBcKDCoj"
      },
      "execution_count": null,
      "outputs": []
    },
    {
      "cell_type": "code",
      "source": [
        "print(test_data_accu)"
      ],
      "metadata": {
        "colab": {
          "base_uri": "https://localhost:8080/"
        },
        "id": "HEi3kYTLDVmq",
        "outputId": "b984379a-7dcf-46fc-c3dc-e4107405bc5d"
      },
      "execution_count": null,
      "outputs": [
        {
          "output_type": "stream",
          "name": "stdout",
          "text": [
            "0.7619047619047619\n"
          ]
        }
      ]
    },
    {
      "cell_type": "code",
      "source": [
        "import numpy as np"
      ],
      "metadata": {
        "id": "PMiI1JA4FJ7S"
      },
      "execution_count": null,
      "outputs": []
    },
    {
      "cell_type": "code",
      "source": [
        "# Making predicative system\n",
        "in_data = (0.0412,0.1135,0.0518,0.0232,0.0646,0.1124,0.1787,0.2407,0.2682,0.2058,0.1546,0.2671,0.3141,0.2904,0.3531,0.5079,0.4639,0.1859,0.4474,0.4079,0.5400,0.4786,0.4332,0.6113,0.5091,0.4606,0.7243,0.8987,0.8826,0.9201,0.8005,0.6033,0.2120,0.2866,0.4033,0.2803,0.3087,0.3550,0.2545,0.1432,0.5869,0.6431,0.5826,0.4286,0.4894,0.5777,0.4315,0.2640,0.1794,0.0772,0.0798,0.0376,0.0143,0.0272,0.0127,0.0166,0.0095,0.0225,0.0098,0.0085)\n",
        "data_array = np.asarray(in_data) # changing the inpute data in to numpy array\n",
        "\n",
        "indata_reshape = data_array.reshape(1,-1) # reshape the np array as we are predicting for one instance\n",
        "\n",
        "predication = model.predict(indata_reshape) \n",
        "\n",
        "if predication[0] == 'R':\n",
        "  print(\"The Object is Rock\")\n",
        "else:\n",
        "  print(\"The Object is Mine\")"
      ],
      "metadata": {
        "colab": {
          "base_uri": "https://localhost:8080/"
        },
        "id": "spyY_YYRDZqL",
        "outputId": "c9a7b5dc-fc23-4c4a-a081-fbf99811a3d7"
      },
      "execution_count": null,
      "outputs": [
        {
          "output_type": "stream",
          "name": "stdout",
          "text": [
            "The Object is Mine\n"
          ]
        }
      ]
    },
    {
      "cell_type": "code",
      "source": [
        ""
      ],
      "metadata": {
        "id": "9cZqhbnLF6zw"
      },
      "execution_count": null,
      "outputs": []
    }
  ]
}